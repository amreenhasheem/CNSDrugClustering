{
 "cells": [
  {
   "cell_type": "markdown",
   "metadata": {},
   "source": [
    "# Clustering of CNS drugs\n",
    "\n",
    "###### (Dataset taken from - Predicting CNS Permeability of Drug Molecules: Comparison of Neural Network and Support Vector Machine Algorithms SCOTT DONIGER,1 THOMAS HOFMANN,2 and JOANNE YEH1,3)\n",
    "\n",
    "## 1. Importing dataset from csv file and preprocessing"
   ]
  },
  {
   "cell_type": "code",
   "execution_count": 3,
   "metadata": {},
   "outputs": [],
   "source": [
    "import pandas as pd\n",
    "import seaborn as sns"
   ]
  },
  {
   "cell_type": "code",
   "execution_count": 4,
   "metadata": {},
   "outputs": [
    {
     "data": {
      "text/html": [
       "<div>\n",
       "<style scoped>\n",
       "    .dataframe tbody tr th:only-of-type {\n",
       "        vertical-align: middle;\n",
       "    }\n",
       "\n",
       "    .dataframe tbody tr th {\n",
       "        vertical-align: top;\n",
       "    }\n",
       "\n",
       "    .dataframe thead th {\n",
       "        text-align: right;\n",
       "    }\n",
       "</style>\n",
       "<table border=\"1\" class=\"dataframe\">\n",
       "  <thead>\n",
       "    <tr style=\"text-align: right;\">\n",
       "      <th></th>\n",
       "      <th>Name</th>\n",
       "      <th>MW</th>\n",
       "      <th>Volume</th>\n",
       "      <th>SA</th>\n",
       "      <th>%hydro</th>\n",
       "      <th>logP</th>\n",
       "      <th>HLB</th>\n",
       "      <th>Hacc</th>\n",
       "      <th>Hdonor</th>\n",
       "      <th>H3d</th>\n",
       "      <th>CNS</th>\n",
       "    </tr>\n",
       "  </thead>\n",
       "  <tbody>\n",
       "    <tr>\n",
       "      <th>0</th>\n",
       "      <td>acepromazine</td>\n",
       "      <td>442.5290</td>\n",
       "      <td>62.8703</td>\n",
       "      <td>9.176</td>\n",
       "      <td>100.0000</td>\n",
       "      <td>-0.8860</td>\n",
       "      <td>20.0000</td>\n",
       "      <td>1.0444</td>\n",
       "      <td>0.56601</td>\n",
       "      <td>15.7038</td>\n",
       "      <td>1</td>\n",
       "    </tr>\n",
       "    <tr>\n",
       "      <th>1</th>\n",
       "      <td>acetophenazine</td>\n",
       "      <td>527.6340</td>\n",
       "      <td>62.5695</td>\n",
       "      <td>9.128</td>\n",
       "      <td>100.0000</td>\n",
       "      <td>-0.8860</td>\n",
       "      <td>20.0000</td>\n",
       "      <td>1.0444</td>\n",
       "      <td>0.56601</td>\n",
       "      <td>15.7038</td>\n",
       "      <td>1</td>\n",
       "    </tr>\n",
       "    <tr>\n",
       "      <th>2</th>\n",
       "      <td>acetozalmide</td>\n",
       "      <td>222.2364</td>\n",
       "      <td>123.6950</td>\n",
       "      <td>17.510</td>\n",
       "      <td>92.0981</td>\n",
       "      <td>-2.9723</td>\n",
       "      <td>19.7280</td>\n",
       "      <td>1.1860</td>\n",
       "      <td>0.88182</td>\n",
       "      <td>22.0383</td>\n",
       "      <td>1</td>\n",
       "    </tr>\n",
       "    <tr>\n",
       "      <th>3</th>\n",
       "      <td>allobarbitol</td>\n",
       "      <td>208.2164</td>\n",
       "      <td>156.9770</td>\n",
       "      <td>23.020</td>\n",
       "      <td>50.2567</td>\n",
       "      <td>0.5750</td>\n",
       "      <td>12.1100</td>\n",
       "      <td>1.3253</td>\n",
       "      <td>0.56084</td>\n",
       "      <td>11.7318</td>\n",
       "      <td>1</td>\n",
       "    </tr>\n",
       "    <tr>\n",
       "      <th>4</th>\n",
       "      <td>amantadine</td>\n",
       "      <td>151.2510</td>\n",
       "      <td>87.9156</td>\n",
       "      <td>10.780</td>\n",
       "      <td>15.3762</td>\n",
       "      <td>2.3950</td>\n",
       "      <td>2.1187</td>\n",
       "      <td>0.5076</td>\n",
       "      <td>0.35920</td>\n",
       "      <td>6.2357</td>\n",
       "      <td>1</td>\n",
       "    </tr>\n",
       "  </tbody>\n",
       "</table>\n",
       "</div>"
      ],
      "text/plain": [
       "             Name        MW    Volume      SA    %hydro    logP      HLB  \\\n",
       "0    acepromazine  442.5290   62.8703   9.176  100.0000 -0.8860  20.0000   \n",
       "1  acetophenazine  527.6340   62.5695   9.128  100.0000 -0.8860  20.0000   \n",
       "2    acetozalmide  222.2364  123.6950  17.510   92.0981 -2.9723  19.7280   \n",
       "3    allobarbitol  208.2164  156.9770  23.020   50.2567  0.5750  12.1100   \n",
       "4      amantadine  151.2510   87.9156  10.780   15.3762  2.3950   2.1187   \n",
       "\n",
       "     Hacc   Hdonor      H3d  CNS  \n",
       "0  1.0444  0.56601  15.7038    1  \n",
       "1  1.0444  0.56601  15.7038    1  \n",
       "2  1.1860  0.88182  22.0383    1  \n",
       "3  1.3253  0.56084  11.7318    1  \n",
       "4  0.5076  0.35920   6.2357    1  "
      ]
     },
     "execution_count": 4,
     "metadata": {},
     "output_type": "execute_result"
    }
   ],
   "source": [
    "dataset = pd.read_csv(\"D:\\Google Drive\\Drug Discovery\\Dataset\\CNS_drugs.csv\")\n",
    "dataset.head()"
   ]
  },
  {
   "cell_type": "code",
   "execution_count": 5,
   "metadata": {},
   "outputs": [
    {
     "data": {
      "text/html": [
       "<div>\n",
       "<style scoped>\n",
       "    .dataframe tbody tr th:only-of-type {\n",
       "        vertical-align: middle;\n",
       "    }\n",
       "\n",
       "    .dataframe tbody tr th {\n",
       "        vertical-align: top;\n",
       "    }\n",
       "\n",
       "    .dataframe thead th {\n",
       "        text-align: right;\n",
       "    }\n",
       "</style>\n",
       "<table border=\"1\" class=\"dataframe\">\n",
       "  <thead>\n",
       "    <tr style=\"text-align: right;\">\n",
       "      <th></th>\n",
       "      <th>Name</th>\n",
       "      <th>MW</th>\n",
       "      <th>Volume</th>\n",
       "      <th>SA</th>\n",
       "      <th>%hydro</th>\n",
       "      <th>logP</th>\n",
       "      <th>HLB</th>\n",
       "      <th>Hacc</th>\n",
       "      <th>Hdonor</th>\n",
       "      <th>H3d</th>\n",
       "      <th>CNS</th>\n",
       "    </tr>\n",
       "  </thead>\n",
       "  <tbody>\n",
       "    <tr>\n",
       "      <th>320</th>\n",
       "      <td>valinomycin</td>\n",
       "      <td>1111.330</td>\n",
       "      <td>705.075</td>\n",
       "      <td>97.18</td>\n",
       "      <td>49.8064</td>\n",
       "      <td>0.4756</td>\n",
       "      <td>14.1550</td>\n",
       "      <td>4.9882</td>\n",
       "      <td>1.50676</td>\n",
       "      <td>8.46004</td>\n",
       "      <td>-1</td>\n",
       "    </tr>\n",
       "    <tr>\n",
       "      <th>321</th>\n",
       "      <td>verapamil</td>\n",
       "      <td>454.608</td>\n",
       "      <td>284.776</td>\n",
       "      <td>37.21</td>\n",
       "      <td>27.0892</td>\n",
       "      <td>4.1860</td>\n",
       "      <td>8.8036</td>\n",
       "      <td>0.6603</td>\n",
       "      <td>0.03466</td>\n",
       "      <td>8.34602</td>\n",
       "      <td>-1</td>\n",
       "    </tr>\n",
       "    <tr>\n",
       "      <th>322</th>\n",
       "      <td>warfarin</td>\n",
       "      <td>308.333</td>\n",
       "      <td>167.236</td>\n",
       "      <td>19.90</td>\n",
       "      <td>31.5172</td>\n",
       "      <td>3.1400</td>\n",
       "      <td>8.1120</td>\n",
       "      <td>0.7801</td>\n",
       "      <td>0.32007</td>\n",
       "      <td>9.33301</td>\n",
       "      <td>-1</td>\n",
       "    </tr>\n",
       "    <tr>\n",
       "      <th>323</th>\n",
       "      <td>yohimbine</td>\n",
       "      <td>354.448</td>\n",
       "      <td>198.626</td>\n",
       "      <td>23.76</td>\n",
       "      <td>32.0197</td>\n",
       "      <td>1.4940</td>\n",
       "      <td>7.9620</td>\n",
       "      <td>1.0433</td>\n",
       "      <td>0.50342</td>\n",
       "      <td>11.54560</td>\n",
       "      <td>-1</td>\n",
       "    </tr>\n",
       "    <tr>\n",
       "      <th>324</th>\n",
       "      <td>zidovudine</td>\n",
       "      <td>267.244</td>\n",
       "      <td>151.885</td>\n",
       "      <td>20.12</td>\n",
       "      <td>89.3704</td>\n",
       "      <td>-2.0662</td>\n",
       "      <td>18.8750</td>\n",
       "      <td>2.0797</td>\n",
       "      <td>0.50174</td>\n",
       "      <td>13.84770</td>\n",
       "      <td>-1</td>\n",
       "    </tr>\n",
       "  </tbody>\n",
       "</table>\n",
       "</div>"
      ],
      "text/plain": [
       "            Name        MW   Volume     SA   %hydro    logP      HLB    Hacc  \\\n",
       "320  valinomycin  1111.330  705.075  97.18  49.8064  0.4756  14.1550  4.9882   \n",
       "321    verapamil   454.608  284.776  37.21  27.0892  4.1860   8.8036  0.6603   \n",
       "322     warfarin   308.333  167.236  19.90  31.5172  3.1400   8.1120  0.7801   \n",
       "323    yohimbine   354.448  198.626  23.76  32.0197  1.4940   7.9620  1.0433   \n",
       "324   zidovudine   267.244  151.885  20.12  89.3704 -2.0662  18.8750  2.0797   \n",
       "\n",
       "      Hdonor       H3d  CNS  \n",
       "320  1.50676   8.46004   -1  \n",
       "321  0.03466   8.34602   -1  \n",
       "322  0.32007   9.33301   -1  \n",
       "323  0.50342  11.54560   -1  \n",
       "324  0.50174  13.84770   -1  "
      ]
     },
     "execution_count": 5,
     "metadata": {},
     "output_type": "execute_result"
    }
   ],
   "source": [
    "dataset.tail()"
   ]
  },
  {
   "cell_type": "markdown",
   "metadata": {},
   "source": [
    "### Taking only CNS permeable drugs with CNS column label as 1 and shufflling the dataset"
   ]
  },
  {
   "cell_type": "code",
   "execution_count": 6,
   "metadata": {},
   "outputs": [],
   "source": [
    "from sklearn.utils import shuffle"
   ]
  },
  {
   "cell_type": "code",
   "execution_count": 7,
   "metadata": {},
   "outputs": [
    {
     "data": {
      "text/html": [
       "<div>\n",
       "<style scoped>\n",
       "    .dataframe tbody tr th:only-of-type {\n",
       "        vertical-align: middle;\n",
       "    }\n",
       "\n",
       "    .dataframe tbody tr th {\n",
       "        vertical-align: top;\n",
       "    }\n",
       "\n",
       "    .dataframe thead th {\n",
       "        text-align: right;\n",
       "    }\n",
       "</style>\n",
       "<table border=\"1\" class=\"dataframe\">\n",
       "  <thead>\n",
       "    <tr style=\"text-align: right;\">\n",
       "      <th></th>\n",
       "      <th>Name</th>\n",
       "      <th>MW</th>\n",
       "      <th>Volume</th>\n",
       "      <th>SA</th>\n",
       "      <th>%hydro</th>\n",
       "      <th>logP</th>\n",
       "      <th>HLB</th>\n",
       "      <th>Hacc</th>\n",
       "      <th>Hdonor</th>\n",
       "      <th>H3d</th>\n",
       "      <th>CNS</th>\n",
       "    </tr>\n",
       "  </thead>\n",
       "  <tbody>\n",
       "    <tr>\n",
       "      <th>132</th>\n",
       "      <td>perphenazine-HCl</td>\n",
       "      <td>403.969</td>\n",
       "      <td>253.4860</td>\n",
       "      <td>32.04</td>\n",
       "      <td>51.0623</td>\n",
       "      <td>4.2050</td>\n",
       "      <td>10.6280</td>\n",
       "      <td>0.5335</td>\n",
       "      <td>0.27047</td>\n",
       "      <td>10.35980</td>\n",
       "      <td>1</td>\n",
       "    </tr>\n",
       "    <tr>\n",
       "      <th>39</th>\n",
       "      <td>clonazepam</td>\n",
       "      <td>315.715</td>\n",
       "      <td>167.3850</td>\n",
       "      <td>20.34</td>\n",
       "      <td>61.8423</td>\n",
       "      <td>2.6133</td>\n",
       "      <td>14.2270</td>\n",
       "      <td>0.9891</td>\n",
       "      <td>0.30584</td>\n",
       "      <td>9.86385</td>\n",
       "      <td>1</td>\n",
       "    </tr>\n",
       "    <tr>\n",
       "      <th>65</th>\n",
       "      <td>etaqualone</td>\n",
       "      <td>264.326</td>\n",
       "      <td>149.5140</td>\n",
       "      <td>17.78</td>\n",
       "      <td>19.7002</td>\n",
       "      <td>2.8803</td>\n",
       "      <td>6.9654</td>\n",
       "      <td>0.3903</td>\n",
       "      <td>0.04460</td>\n",
       "      <td>6.24421</td>\n",
       "      <td>1</td>\n",
       "    </tr>\n",
       "    <tr>\n",
       "      <th>89</th>\n",
       "      <td>kynurenicacid</td>\n",
       "      <td>189.170</td>\n",
       "      <td>95.6217</td>\n",
       "      <td>11.46</td>\n",
       "      <td>62.6617</td>\n",
       "      <td>0.9390</td>\n",
       "      <td>13.2240</td>\n",
       "      <td>1.0214</td>\n",
       "      <td>0.57610</td>\n",
       "      <td>16.17810</td>\n",
       "      <td>1</td>\n",
       "    </tr>\n",
       "    <tr>\n",
       "      <th>26</th>\n",
       "      <td>capuride</td>\n",
       "      <td>186.253</td>\n",
       "      <td>113.7220</td>\n",
       "      <td>16.06</td>\n",
       "      <td>37.3288</td>\n",
       "      <td>0.1500</td>\n",
       "      <td>10.6380</td>\n",
       "      <td>1.2563</td>\n",
       "      <td>0.78814</td>\n",
       "      <td>10.64410</td>\n",
       "      <td>1</td>\n",
       "    </tr>\n",
       "  </tbody>\n",
       "</table>\n",
       "</div>"
      ],
      "text/plain": [
       "                 Name       MW    Volume     SA   %hydro    logP      HLB  \\\n",
       "132  perphenazine-HCl  403.969  253.4860  32.04  51.0623  4.2050  10.6280   \n",
       "39         clonazepam  315.715  167.3850  20.34  61.8423  2.6133  14.2270   \n",
       "65         etaqualone  264.326  149.5140  17.78  19.7002  2.8803   6.9654   \n",
       "89      kynurenicacid  189.170   95.6217  11.46  62.6617  0.9390  13.2240   \n",
       "26           capuride  186.253  113.7220  16.06  37.3288  0.1500  10.6380   \n",
       "\n",
       "       Hacc   Hdonor       H3d  CNS  \n",
       "132  0.5335  0.27047  10.35980    1  \n",
       "39   0.9891  0.30584   9.86385    1  \n",
       "65   0.3903  0.04460   6.24421    1  \n",
       "89   1.0214  0.57610  16.17810    1  \n",
       "26   1.2563  0.78814  10.64410    1  "
      ]
     },
     "execution_count": 7,
     "metadata": {},
     "output_type": "execute_result"
    }
   ],
   "source": [
    "df_active = dataset[dataset['CNS']==1] \n",
    "df_active = shuffle(df_active)\n",
    "df_active.head()"
   ]
  },
  {
   "cell_type": "markdown",
   "metadata": {},
   "source": [
    "## 2. Scaling the dataset"
   ]
  },
  {
   "cell_type": "code",
   "execution_count": 8,
   "metadata": {},
   "outputs": [],
   "source": [
    "from sklearn.preprocessing import StandardScaler"
   ]
  },
  {
   "cell_type": "code",
   "execution_count": 9,
   "metadata": {},
   "outputs": [
    {
     "data": {
      "text/html": [
       "<div>\n",
       "<style scoped>\n",
       "    .dataframe tbody tr th:only-of-type {\n",
       "        vertical-align: middle;\n",
       "    }\n",
       "\n",
       "    .dataframe tbody tr th {\n",
       "        vertical-align: top;\n",
       "    }\n",
       "\n",
       "    .dataframe thead th {\n",
       "        text-align: right;\n",
       "    }\n",
       "</style>\n",
       "<table border=\"1\" class=\"dataframe\">\n",
       "  <thead>\n",
       "    <tr style=\"text-align: right;\">\n",
       "      <th></th>\n",
       "      <th>MW</th>\n",
       "      <th>Volume</th>\n",
       "      <th>SA</th>\n",
       "      <th>%hydro</th>\n",
       "      <th>logP</th>\n",
       "      <th>HLB</th>\n",
       "      <th>Hacc</th>\n",
       "      <th>Hdonor</th>\n",
       "      <th>H3d</th>\n",
       "    </tr>\n",
       "  </thead>\n",
       "  <tbody>\n",
       "    <tr>\n",
       "      <th>132</th>\n",
       "      <td>1.066936</td>\n",
       "      <td>1.307992</td>\n",
       "      <td>1.275226</td>\n",
       "      <td>0.393237</td>\n",
       "      <td>0.930614</td>\n",
       "      <td>0.123007</td>\n",
       "      <td>-0.394993</td>\n",
       "      <td>-0.140841</td>\n",
       "      <td>0.180236</td>\n",
       "    </tr>\n",
       "    <tr>\n",
       "      <th>39</th>\n",
       "      <td>0.214669</td>\n",
       "      <td>-0.019332</td>\n",
       "      <td>-0.151733</td>\n",
       "      <td>0.830061</td>\n",
       "      <td>0.158543</td>\n",
       "      <td>0.847885</td>\n",
       "      <td>0.878801</td>\n",
       "      <td>0.009776</td>\n",
       "      <td>0.028228</td>\n",
       "    </tr>\n",
       "    <tr>\n",
       "      <th>65</th>\n",
       "      <td>-0.281593</td>\n",
       "      <td>-0.294830</td>\n",
       "      <td>-0.463956</td>\n",
       "      <td>-0.877610</td>\n",
       "      <td>0.288054</td>\n",
       "      <td>-0.614680</td>\n",
       "      <td>-0.795360</td>\n",
       "      <td>-1.102672</td>\n",
       "      <td>-1.081188</td>\n",
       "    </tr>\n",
       "    <tr>\n",
       "      <th>89</th>\n",
       "      <td>-1.007373</td>\n",
       "      <td>-1.125628</td>\n",
       "      <td>-1.234758</td>\n",
       "      <td>0.863264</td>\n",
       "      <td>-0.653594</td>\n",
       "      <td>0.645870</td>\n",
       "      <td>0.969107</td>\n",
       "      <td>1.160636</td>\n",
       "      <td>1.963540</td>\n",
       "    </tr>\n",
       "    <tr>\n",
       "      <th>26</th>\n",
       "      <td>-1.035543</td>\n",
       "      <td>-0.846596</td>\n",
       "      <td>-0.673731</td>\n",
       "      <td>-0.163269</td>\n",
       "      <td>-1.036307</td>\n",
       "      <td>0.125021</td>\n",
       "      <td>1.625855</td>\n",
       "      <td>2.063574</td>\n",
       "      <td>0.267374</td>\n",
       "    </tr>\n",
       "  </tbody>\n",
       "</table>\n",
       "</div>"
      ],
      "text/plain": [
       "           MW    Volume        SA    %hydro      logP       HLB      Hacc  \\\n",
       "132  1.066936  1.307992  1.275226  0.393237  0.930614  0.123007 -0.394993   \n",
       "39   0.214669 -0.019332 -0.151733  0.830061  0.158543  0.847885  0.878801   \n",
       "65  -0.281593 -0.294830 -0.463956 -0.877610  0.288054 -0.614680 -0.795360   \n",
       "89  -1.007373 -1.125628 -1.234758  0.863264 -0.653594  0.645870  0.969107   \n",
       "26  -1.035543 -0.846596 -0.673731 -0.163269 -1.036307  0.125021  1.625855   \n",
       "\n",
       "       Hdonor       H3d  \n",
       "132 -0.140841  0.180236  \n",
       "39   0.009776  0.028228  \n",
       "65  -1.102672 -1.081188  \n",
       "89   1.160636  1.963540  \n",
       "26   2.063574  0.267374  "
      ]
     },
     "execution_count": 9,
     "metadata": {},
     "output_type": "execute_result"
    }
   ],
   "source": [
    "dat_mod = df_active.iloc[:,1:10]\n",
    "scaler = StandardScaler()\n",
    "dat_mod[['MW','Volume', 'SA','%hydro', 'logP', 'HLB','Hacc', 'Hdonor', 'H3d']] = scaler.fit_transform(dat_mod[['MW','Volume', 'SA','%hydro', 'logP', 'HLB','Hacc', 'Hdonor', 'H3d']])\n",
    "dat_mod.head()"
   ]
  },
  {
   "cell_type": "markdown",
   "metadata": {},
   "source": [
    "## 3. Computing and visualising correlation in the dataset"
   ]
  },
  {
   "cell_type": "code",
   "execution_count": 10,
   "metadata": {},
   "outputs": [],
   "source": [
    "import matplotlib.pyplot as plt\n",
    "import numpy as np\n",
    "import seaborn as sns"
   ]
  },
  {
   "cell_type": "markdown",
   "metadata": {},
   "source": [
    "### Correlation table \n",
    "#### High positive value shows positive linear relationship\n",
    "#### High neg shows negative linear relationship"
   ]
  },
  {
   "cell_type": "code",
   "execution_count": 11,
   "metadata": {},
   "outputs": [
    {
     "data": {
      "text/html": [
       "<div>\n",
       "<style scoped>\n",
       "    .dataframe tbody tr th:only-of-type {\n",
       "        vertical-align: middle;\n",
       "    }\n",
       "\n",
       "    .dataframe tbody tr th {\n",
       "        vertical-align: top;\n",
       "    }\n",
       "\n",
       "    .dataframe thead th {\n",
       "        text-align: right;\n",
       "    }\n",
       "</style>\n",
       "<table border=\"1\" class=\"dataframe\">\n",
       "  <thead>\n",
       "    <tr style=\"text-align: right;\">\n",
       "      <th></th>\n",
       "      <th>MW</th>\n",
       "      <th>Volume</th>\n",
       "      <th>SA</th>\n",
       "      <th>%hydro</th>\n",
       "      <th>logP</th>\n",
       "      <th>HLB</th>\n",
       "      <th>Hacc</th>\n",
       "      <th>Hdonor</th>\n",
       "      <th>H3d</th>\n",
       "    </tr>\n",
       "  </thead>\n",
       "  <tbody>\n",
       "    <tr>\n",
       "      <th>MW</th>\n",
       "      <td>1.000000</td>\n",
       "      <td>0.598258</td>\n",
       "      <td>0.572481</td>\n",
       "      <td>0.128245</td>\n",
       "      <td>0.289329</td>\n",
       "      <td>0.094525</td>\n",
       "      <td>0.141479</td>\n",
       "      <td>-0.178241</td>\n",
       "      <td>0.029019</td>\n",
       "    </tr>\n",
       "    <tr>\n",
       "      <th>Volume</th>\n",
       "      <td>0.598258</td>\n",
       "      <td>1.000000</td>\n",
       "      <td>0.989046</td>\n",
       "      <td>-0.429715</td>\n",
       "      <td>0.629226</td>\n",
       "      <td>-0.399178</td>\n",
       "      <td>-0.125493</td>\n",
       "      <td>-0.445795</td>\n",
       "      <td>-0.359346</td>\n",
       "    </tr>\n",
       "    <tr>\n",
       "      <th>SA</th>\n",
       "      <td>0.572481</td>\n",
       "      <td>0.989046</td>\n",
       "      <td>1.000000</td>\n",
       "      <td>-0.403888</td>\n",
       "      <td>0.593484</td>\n",
       "      <td>-0.376790</td>\n",
       "      <td>-0.100582</td>\n",
       "      <td>-0.409678</td>\n",
       "      <td>-0.341633</td>\n",
       "    </tr>\n",
       "    <tr>\n",
       "      <th>%hydro</th>\n",
       "      <td>0.128245</td>\n",
       "      <td>-0.429715</td>\n",
       "      <td>-0.403888</td>\n",
       "      <td>1.000000</td>\n",
       "      <td>-0.638267</td>\n",
       "      <td>0.964508</td>\n",
       "      <td>0.505073</td>\n",
       "      <td>0.426336</td>\n",
       "      <td>0.646590</td>\n",
       "    </tr>\n",
       "    <tr>\n",
       "      <th>logP</th>\n",
       "      <td>0.289329</td>\n",
       "      <td>0.629226</td>\n",
       "      <td>0.593484</td>\n",
       "      <td>-0.638267</td>\n",
       "      <td>1.000000</td>\n",
       "      <td>-0.679557</td>\n",
       "      <td>-0.525078</td>\n",
       "      <td>-0.522112</td>\n",
       "      <td>-0.615013</td>\n",
       "    </tr>\n",
       "    <tr>\n",
       "      <th>HLB</th>\n",
       "      <td>0.094525</td>\n",
       "      <td>-0.399178</td>\n",
       "      <td>-0.376790</td>\n",
       "      <td>0.964508</td>\n",
       "      <td>-0.679557</td>\n",
       "      <td>1.000000</td>\n",
       "      <td>0.525338</td>\n",
       "      <td>0.372572</td>\n",
       "      <td>0.603235</td>\n",
       "    </tr>\n",
       "    <tr>\n",
       "      <th>Hacc</th>\n",
       "      <td>0.141479</td>\n",
       "      <td>-0.125493</td>\n",
       "      <td>-0.100582</td>\n",
       "      <td>0.505073</td>\n",
       "      <td>-0.525078</td>\n",
       "      <td>0.525338</td>\n",
       "      <td>1.000000</td>\n",
       "      <td>0.774100</td>\n",
       "      <td>0.583704</td>\n",
       "    </tr>\n",
       "    <tr>\n",
       "      <th>Hdonor</th>\n",
       "      <td>-0.178241</td>\n",
       "      <td>-0.445795</td>\n",
       "      <td>-0.409678</td>\n",
       "      <td>0.426336</td>\n",
       "      <td>-0.522112</td>\n",
       "      <td>0.372572</td>\n",
       "      <td>0.774100</td>\n",
       "      <td>1.000000</td>\n",
       "      <td>0.636627</td>\n",
       "    </tr>\n",
       "    <tr>\n",
       "      <th>H3d</th>\n",
       "      <td>0.029019</td>\n",
       "      <td>-0.359346</td>\n",
       "      <td>-0.341633</td>\n",
       "      <td>0.646590</td>\n",
       "      <td>-0.615013</td>\n",
       "      <td>0.603235</td>\n",
       "      <td>0.583704</td>\n",
       "      <td>0.636627</td>\n",
       "      <td>1.000000</td>\n",
       "    </tr>\n",
       "  </tbody>\n",
       "</table>\n",
       "</div>"
      ],
      "text/plain": [
       "              MW    Volume        SA    %hydro      logP       HLB      Hacc  \\\n",
       "MW      1.000000  0.598258  0.572481  0.128245  0.289329  0.094525  0.141479   \n",
       "Volume  0.598258  1.000000  0.989046 -0.429715  0.629226 -0.399178 -0.125493   \n",
       "SA      0.572481  0.989046  1.000000 -0.403888  0.593484 -0.376790 -0.100582   \n",
       "%hydro  0.128245 -0.429715 -0.403888  1.000000 -0.638267  0.964508  0.505073   \n",
       "logP    0.289329  0.629226  0.593484 -0.638267  1.000000 -0.679557 -0.525078   \n",
       "HLB     0.094525 -0.399178 -0.376790  0.964508 -0.679557  1.000000  0.525338   \n",
       "Hacc    0.141479 -0.125493 -0.100582  0.505073 -0.525078  0.525338  1.000000   \n",
       "Hdonor -0.178241 -0.445795 -0.409678  0.426336 -0.522112  0.372572  0.774100   \n",
       "H3d     0.029019 -0.359346 -0.341633  0.646590 -0.615013  0.603235  0.583704   \n",
       "\n",
       "          Hdonor       H3d  \n",
       "MW     -0.178241  0.029019  \n",
       "Volume -0.445795 -0.359346  \n",
       "SA     -0.409678 -0.341633  \n",
       "%hydro  0.426336  0.646590  \n",
       "logP   -0.522112 -0.615013  \n",
       "HLB     0.372572  0.603235  \n",
       "Hacc    0.774100  0.583704  \n",
       "Hdonor  1.000000  0.636627  \n",
       "H3d     0.636627  1.000000  "
      ]
     },
     "execution_count": 11,
     "metadata": {},
     "output_type": "execute_result"
    }
   ],
   "source": [
    "df = dat_mod.copy()\n",
    "df.corr()"
   ]
  },
  {
   "cell_type": "markdown",
   "metadata": {},
   "source": [
    "### Heatmap of correlations\n",
    "#### Deep red regions denote positive linear relationship\n",
    "#### Deep blue regions denote negative linear relationship"
   ]
  },
  {
   "cell_type": "code",
   "execution_count": 12,
   "metadata": {},
   "outputs": [
    {
     "data": {
      "text/plain": [
       "<matplotlib.axes._subplots.AxesSubplot at 0x1a907f17470>"
      ]
     },
     "execution_count": 12,
     "metadata": {},
     "output_type": "execute_result"
    },
    {
     "data": {
      "image/png": "[encoded data removed]",
      "text/plain": [
       "<Figure size 432x288 with 2 Axes>"
      ]
     },
     "metadata": {
      "needs_background": "light"
     },
     "output_type": "display_data"
    }
   ],
   "source": [
    "sns.heatmap(df.corr(), cmap=\"coolwarm\")"
   ]
  },
  {
   "cell_type": "markdown",
   "metadata": {},
   "source": [
    "## 4. PCA for plotting the data points and clustering"
   ]
  },
  {
   "cell_type": "code",
   "execution_count": 13,
   "metadata": {},
   "outputs": [],
   "source": [
    "from sklearn.decomposition import PCA"
   ]
  },
  {
   "cell_type": "markdown",
   "metadata": {},
   "source": [
    "### No. of dimensions have been reduced to 2 - pc1, pc2  after carrying out PCA"
   ]
  },
  {
   "cell_type": "code",
   "execution_count": 14,
   "metadata": {},
   "outputs": [],
   "source": [
    "pca = PCA(n_components=2)\n",
    "pComponents = pca.fit_transform(df)\n",
    "pDf = pd.DataFrame(data = pComponents\n",
    "             , columns = ['pc1', 'pc2'])"
   ]
  },
  {
   "cell_type": "code",
   "execution_count": 15,
   "metadata": {},
   "outputs": [
    {
     "data": {
      "text/html": [
       "<div>\n",
       "<style scoped>\n",
       "    .dataframe tbody tr th:only-of-type {\n",
       "        vertical-align: middle;\n",
       "    }\n",
       "\n",
       "    .dataframe tbody tr th {\n",
       "        vertical-align: top;\n",
       "    }\n",
       "\n",
       "    .dataframe thead th {\n",
       "        text-align: right;\n",
       "    }\n",
       "</style>\n",
       "<table border=\"1\" class=\"dataframe\">\n",
       "  <thead>\n",
       "    <tr style=\"text-align: right;\">\n",
       "      <th></th>\n",
       "      <th>pc1</th>\n",
       "      <th>pc2</th>\n",
       "    </tr>\n",
       "  </thead>\n",
       "  <tbody>\n",
       "    <tr>\n",
       "      <th>0</th>\n",
       "      <td>-1.260716</td>\n",
       "      <td>1.798765</td>\n",
       "    </tr>\n",
       "    <tr>\n",
       "      <th>1</th>\n",
       "      <td>0.868711</td>\n",
       "      <td>0.755303</td>\n",
       "    </tr>\n",
       "    <tr>\n",
       "      <th>2</th>\n",
       "      <td>-1.383886</td>\n",
       "      <td>-1.416781</td>\n",
       "    </tr>\n",
       "    <tr>\n",
       "      <th>3</th>\n",
       "      <td>3.104290</td>\n",
       "      <td>-0.462303</td>\n",
       "    </tr>\n",
       "    <tr>\n",
       "      <th>4</th>\n",
       "      <td>2.305672</td>\n",
       "      <td>-0.530121</td>\n",
       "    </tr>\n",
       "  </tbody>\n",
       "</table>\n",
       "</div>"
      ],
      "text/plain": [
       "        pc1       pc2\n",
       "0 -1.260716  1.798765\n",
       "1  0.868711  0.755303\n",
       "2 -1.383886 -1.416781\n",
       "3  3.104290 -0.462303\n",
       "4  2.305672 -0.530121"
      ]
     },
     "execution_count": 15,
     "metadata": {},
     "output_type": "execute_result"
    }
   ],
   "source": [
    "pDf.head()"
   ]
  },
  {
   "cell_type": "markdown",
   "metadata": {},
   "source": [
    "## 5. Clustering on PCA output using K-Means clustering"
   ]
  },
  {
   "cell_type": "code",
   "execution_count": 16,
   "metadata": {},
   "outputs": [],
   "source": [
    "from sklearn.cluster import KMeans\n",
    "from sklearn import metrics\n",
    "from scipy.spatial.distance import cdist"
   ]
  },
  {
   "cell_type": "markdown",
   "metadata": {},
   "source": [
    "## Elbow method to find the optimum no. of clusters\n",
    "#### The elbow is at around 2 - We proceed with 2 clusters"
   ]
  },
  {
   "cell_type": "markdown",
   "metadata": {},
   "source": [
    "### Elbow method carried out on the sclaed dataset (without dimensionality reduction) - 8 columns\n",
    "\n",
    "#### In the plot, k is the no. of clusters and distortion captures the internal cluster distance. As no. of clusters increase, distance decrease. We need to find the elbow point, after which the improvement is not significant. In this particular problem set, the elbow is not very prominent. But it can concluded that it is at 2."
   ]
  },
  {
   "cell_type": "code",
   "execution_count": 17,
   "metadata": {},
   "outputs": [
    {
     "data": {
      "image/png": "[encoded data removed]",
      "text/plain": [
       "<Figure size 432x288 with 1 Axes>"
      ]
     },
     "metadata": {
      "needs_background": "light"
     },
     "output_type": "display_data"
    }
   ],
   "source": [
    "# k means determine k\n",
    "distortions = []\n",
    "K = range(1,10)\n",
    "for k in K:\n",
    "    km = KMeans(n_clusters=k).fit(df)\n",
    "    km.fit(df)\n",
    "    distortions.append(sum(np.min(cdist(df, km.cluster_centers_, 'euclidean'), axis=1)) / df.shape[0])\n",
    "\n",
    "# Plot the elbow\n",
    "plt.plot(K, distortions, 'bx-')\n",
    "plt.xlabel('k')\n",
    "plt.ylabel('Distortion')\n",
    "plt.title('The Elbow Method showing the optimal k')\n",
    "plt.show()"
   ]
  },
  {
   "cell_type": "markdown",
   "metadata": {},
   "source": [
    "### Elbow method carried out on PCA output dataframe pDf with 2 columns"
   ]
  },
  {
   "cell_type": "code",
   "execution_count": 18,
   "metadata": {},
   "outputs": [
    {
     "data": {
      "image/png": "[encoded data removed]",
      "text/plain": [
       "<Figure size 432x288 with 1 Axes>"
      ]
     },
     "metadata": {
      "needs_background": "light"
     },
     "output_type": "display_data"
    }
   ],
   "source": [
    "# determine k using pDf\n",
    "distortions = []\n",
    "K = range(1,10)\n",
    "for k in K:\n",
    "    km = KMeans(n_clusters=k).fit(pDf)\n",
    "    km.fit(pDf)\n",
    "    distortions.append(sum(np.min(cdist(pDf, km.cluster_centers_, 'euclidean'), axis=1)) / pDf.shape[0])\n",
    "\n",
    "# Plot the elbow\n",
    "plt.plot(K, distortions, 'bx-')\n",
    "plt.xlabel('k')\n",
    "plt.ylabel('Distortion')\n",
    "plt.title('The Elbow Method showing the optimal k')\n",
    "plt.show()"
   ]
  },
  {
   "cell_type": "markdown",
   "metadata": {},
   "source": [
    "## Clustering using K-Means with no. of clusters as 2 on the PCA output dataframe"
   ]
  },
  {
   "cell_type": "code",
   "execution_count": 19,
   "metadata": {},
   "outputs": [],
   "source": [
    "kmeans = KMeans(n_clusters=2)\n",
    "clusters = kmeans.fit_predict(pDf)"
   ]
  },
  {
   "cell_type": "markdown",
   "metadata": {},
   "source": [
    "### Cluster output for 2 clusters, x axis - pc1, y axis - pc2. Different clusters are plotted with different colours. Black circles represents the cluster centers. "
   ]
  },
  {
   "cell_type": "code",
   "execution_count": 20,
   "metadata": {},
   "outputs": [
    {
     "data": {
      "image/png": "[encoded data removed]",
      "text/plain": [
       "<Figure size 864x576 with 1 Axes>"
      ]
     },
     "metadata": {
      "needs_background": "light"
     },
     "output_type": "display_data"
    }
   ],
   "source": [
    "fig, ax = plt.subplots(figsize=(12,8))\n",
    "sns.scatterplot( pDf.iloc[:, 0], pDf.iloc[:, 1], hue=clusters, cmap='virdis', s=150, ax=ax, palette=\"viridis\")\n",
    "\n",
    "centers = kmeans.cluster_centers_\n",
    "plt.scatter(centers[:, 0], centers[:, 1], c='black', s=200, alpha=0.5);\n",
    "plt.show()"
   ]
  }
 ],
 "metadata": {
  "kernelspec": {
   "display_name": "Python 3",
   "language": "python",
   "name": "python3"
  },
  "language_info": {
   "codemirror_mode": {
    "name": "ipython",
    "version": 3
   },
   "file_extension": ".py",
   "mimetype": "text/x-python",
   "name": "python",
   "nbconvert_exporter": "python",
   "pygments_lexer": "ipython3",
   "version": "3.7.3"
  }
 },
 "nbformat": 4,
 "nbformat_minor": 2
}
